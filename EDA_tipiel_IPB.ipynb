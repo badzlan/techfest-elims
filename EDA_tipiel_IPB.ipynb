{
  "cells": [
    {
      "cell_type": "markdown",
      "metadata": {
        "id": "view-in-github",
        "colab_type": "text"
      },
      "source": [
        "<a href=\"https://colab.research.google.com/github/badzlan/techfest-elims/blob/main/EDA_tipiel_IPB.ipynb\" target=\"_parent\"><img src=\"https://colab.research.google.com/assets/colab-badge.svg\" alt=\"Open In Colab\"/></a>"
      ]
    },
    {
      "cell_type": "markdown",
      "metadata": {
        "id": "XD_hbFCkUhWh"
      },
      "source": [
        "# Efektivitas Penyaluran Dana Transfer ke Daerah (TKDD): Studi Perbandingan Pagu dan Realisasi TKDD di Provinsi-Provinsi Indonesia Tahun 2023"
      ]
    },
    {
      "cell_type": "markdown",
      "source": [
        "### Info"
      ],
      "metadata": {
        "id": "SPUIf4SozlH2"
      }
    },
    {
      "cell_type": "markdown",
      "source": [
        "#### Rumusan Masalah"
      ],
      "metadata": {
        "id": "PU89LQLV1TBd"
      }
    },
    {
      "cell_type": "markdown",
      "source": [
        "1. Bagaimana tingkat perbandingan antara pagu dan realisas TKDD di setiap provinsi di Indonesia tahun 2023?\n",
        "\n",
        "2. Provinsi mana yang memiliki tingkat realisasi tertinggi dan terendah?\n",
        "\n",
        "3. Apa kemungkinan faktor-faktor yang mempengaruhi tinggi/rendahnya realisasi TKDD?\n",
        "\n",
        "4. Apakah terdapat hubungan antara realisasi TKDD dan IPM suatu provinsi?\n",
        "\n",
        "5. Apa saja faktor-faktor yang memengaruhi IPM di tiap provinsi Indonesia pada tahun 2023"
      ],
      "metadata": {
        "id": "poGa3Bb41U4Q"
      }
    },
    {
      "cell_type": "markdown",
      "source": [
        "#### Permintaan untuk peserta"
      ],
      "metadata": {
        "id": "klnJLFlw2D4a"
      }
    },
    {
      "cell_type": "markdown",
      "source": [
        "1. Melakukan analisis perbandingan pagu TKDD dan realisasi TKDD\n",
        "\n",
        "2. Menghitung persentase realisasi TKDD dari tiap provinsi dan mengklasifikasikannya menjadi 3 kategori:\n",
        "  - Di bawah 90%\n",
        "  - Berada di antara 90-100%\n",
        "  - Di atas 100%\n",
        "\n",
        "3. Menganalissi faktor-faktor yang dapat mempengaruhi realisasi TKDD\n",
        "\n",
        "4. Analisis hubungan realisasi TKDD dengan IPM\n",
        "\n",
        "5. Memberikan insight dan rekomendasi kebjijakan yang berdasarkan data\n",
        "\n",
        "6. Tim wajib mencantumkan penjelasan terkait EDA yang dilakukan"
      ],
      "metadata": {
        "id": "Gw_TZ0Dm2Try"
      }
    },
    {
      "cell_type": "markdown",
      "source": [
        "#### Catatan"
      ],
      "metadata": {
        "id": "Pcpk87442-Kw"
      }
    },
    {
      "cell_type": "markdown",
      "source": [
        "1. Tim peserta wajib mencantumkan penjelasan naratif (deskriptif) terhadap setiap langkah EDA yang dilakukan, baik berupa temuan statistik, pola, tren, maupun anomali, untuk mendukung pemahaman terhadap data dan relevansi dengan studi kasus.\n",
        "\n",
        "2. Dataset yang disediakan belum sepenuhnya bersih. Setiap peserta diwajibkan melakukan tahap data preparation terlebih dahulu sesuai kebutuhan masing-masing.\n",
        "\n",
        "3. Peserta diperbolehkan melakukan eksplorasi dan visualisasi data tambahan di luar instruksi yang diberikan. Visualisasi dapat dibuat dengan format dan jenis apapun, selama:\n",
        "    * Relevan dengan studi kasus\n",
        "    * Mendukung jawaban terhadap rumusan masalah\n",
        "    * Menghasilkan insight yang bermakna dan dapat ditindaklanjuti"
      ],
      "metadata": {
        "id": "IgaBPpyr3Xjq"
      }
    },
    {
      "cell_type": "markdown",
      "source": [
        "#### Penjelasan Kolom"
      ],
      "metadata": {
        "id": "SFdle8qo36TN"
      }
    },
    {
      "cell_type": "markdown",
      "source": [
        "1. Provinsi: Nama wilayah administratif di Indonesia\n",
        "\n",
        "2. IPM: Indeks Pembangunan Manusia\n",
        "    - Angka untuk ngukur kualitas hidup penduduk.\n",
        "    - Gabungan dari pendidikan, kesehatan, dan pendapatan.\n",
        "    - Makin tinggi, makin bagus kualitas hidup di daerah itu.\n",
        "\n",
        "3. Pagu TKDD\n",
        "    - TKDD = Transfer ke Daerah dan Dana Desa, bagian dari APBN (Anggaran Pendapatan dan Belanja Negara)\n",
        "    - Total dana transfer dari pusat ke daerah (sebelum dipakai)\n",
        "    - Ini adalah anggaran yang dikasih dari pusat ke provinsi\n",
        "\n",
        "4. Realisasi TKDD\n",
        "    - Seberapa banyak dana TKDD ini yang bener-bener udah dipakai\n",
        "    - Kalau angkanya lebih kecil dibandingkan dengan pagu, maka artinya belum dimanfaatkan secara maksimal\n",
        "\n",
        "5. Jumlah Penduduk\n",
        "\n",
        "6. Anggaran APBN per Kapita\n",
        "    - Total dana dari pemerintah pusat dibagi per orang\n",
        "    - Buat tau berapa jatah rata-rata tiap orang dari anggaran nasional\n",
        "\n",
        "7. Persentase Penduduk Miskin\n",
        "    - Persentase orang yang hidup di bawah garis kemiskinan\n",
        "    - Miskin di sini dihitung berdasarkan pengeluaran orang tersebut\n",
        "    - Ketika pengeluaran < batas bawah garis kemiskinan provinsi tersebut = dikategorikan miskin\n",
        "\n",
        "8. PRDB Atas Dasar Harga Berlaku\n",
        "    - PRDB = Produk Domestik Regional Bruto\n",
        "    - ADHB = Atas Dasar Harga Berlaku\n",
        "    - Total nilai barang & jasa yang dihasilkan provinsi, dihitung pakai harga saat itu (tanpa koreksi inflasi).\n",
        "    - Ibaratnya: seberapa “kaya” aktivitas ekonomi daerah itu saat ini.\n",
        "\n",
        "9. PRDB per Kapita HB\n",
        "    - PDRB dibagi jumlah penduduk → buat lihat rata-rata kontribusi ekonomi per orang.\n",
        "    - Makin tinggi, artinya rata-rata orang di daerah itu punya “aktivitas ekonomi” yang tinggi.\n",
        "\n",
        "10. Laju Pertumbuhan PDRB atas dasar konstan 2010\n",
        "    - Seberapa cepat ekonomi daerah tumbuh dibanding tahun sebelumnya.\n",
        "    - Pakai harga konstan 2010 (jadi gak dipengaruhi inflasi).\n",
        "    - Makin tinggi persen pertumbuhannya, berarti ekonomi makin cepat berkembang."
      ],
      "metadata": {
        "id": "wtO2HqdB6hvd"
      }
    },
    {
      "cell_type": "markdown",
      "source": [
        "## 1. Data Preparation"
      ],
      "metadata": {
        "id": "-CzXECPzv9WL"
      }
    },
    {
      "cell_type": "markdown",
      "source": [
        "### 1.1 Import library and Data"
      ],
      "metadata": {
        "id": "1eK9-hRhwD6g"
      }
    },
    {
      "cell_type": "code",
      "source": [
        "import pandas as pd\n",
        "import numpy as np\n",
        "import matplotlib.pyplot as plt\n",
        "import seaborn as sns\n",
        "import re"
      ],
      "metadata": {
        "id": "8ZIJjS_B5HMR"
      },
      "execution_count": 1,
      "outputs": []
    },
    {
      "cell_type": "code",
      "source": [
        "# Baca data dari GitHub\n",
        "url = \"https://raw.githubusercontent.com/badzlan/techfest-elims/refs/heads/main/dataset.csv\"\n",
        "df = pd.read_csv(url)\n",
        "\n",
        "# Tampilkan 5 data pertama\n",
        "df.head()"
      ],
      "metadata": {
        "id": "UMVIG03vUqkj",
        "outputId": "3afe24fe-b828-4f7a-b738-d4ceb150f2a0",
        "colab": {
          "base_uri": "https://localhost:8080/",
          "height": 345
        }
      },
      "execution_count": 2,
      "outputs": [
        {
          "output_type": "execute_result",
          "data": {
            "text/plain": [
              "        Provinsi    IPM                   Pagu TKDD  \\\n",
              "0           ACEH   74,7   Rp 30.821.480.000.000,00    \n",
              "1           BALI  78,01   Rp 11.152.110.000.000,00    \n",
              "2         BANTEN  75,77   Rp 17.453.380.000.000,00    \n",
              "3       BENGKULU   74,3   Rp 10.570.080.000.000,00    \n",
              "4  DI YOGYAKARTA  81,09   Rp 10.355.870.000.000,00    \n",
              "\n",
              "               Realisasi TKDD Jumlah Penduduk Anggaran APBN per kapita  \\\n",
              "0   Rp 31.074.560.000.000,00       5.409.200             5.744.760,78    \n",
              "1   Rp 11.064.980.000.000,00       4.374.300             2.529.543,01    \n",
              "2   Rp 17.467.380.000.000,00      12.167.000             1.435.635,74    \n",
              "3   Rp 10.559.790.000.000,00       2.059.400             5.127.605,13    \n",
              "4   Rp 10.241.290.000.000,00       3.712.600             2.758.522,33    \n",
              "\n",
              "  Persentase Penduduk Miskin  \\\n",
              "0                      14,45   \n",
              "1                       4,25   \n",
              "2                       6,17   \n",
              "3                      14,04   \n",
              "4                      11,04   \n",
              "\n",
              "  Produk Domestik Regional Bruto (PDRB) Atas Dasar Harga Berlaku  \\\n",
              "0                                           227018,2               \n",
              "1                                          274358,18               \n",
              "2                                          814122,03               \n",
              "3                                           96583,09               \n",
              "4                                          180696,04               \n",
              "\n",
              "  Produk Domestik Regional Bruto per Kapita HB  \\\n",
              "0                                  41.408.000    \n",
              "1                                  62.294.000    \n",
              "2                                  66.147.000    \n",
              "3                                  46.300.000    \n",
              "4                                  48.360.000    \n",
              "\n",
              "  Laju Pertumbuhan PDRB atas dasar konstan 2010  \n",
              "0                                          4,23  \n",
              "1                                          5,71  \n",
              "2                                          4,81  \n",
              "3                                          4,28  \n",
              "4                                          5,07  "
            ],
            "text/html": [
              "\n",
              "  <div id=\"df-d6d24b76-83a3-4c5b-b2ff-2bb9fee70563\" class=\"colab-df-container\">\n",
              "    <div>\n",
              "<style scoped>\n",
              "    .dataframe tbody tr th:only-of-type {\n",
              "        vertical-align: middle;\n",
              "    }\n",
              "\n",
              "    .dataframe tbody tr th {\n",
              "        vertical-align: top;\n",
              "    }\n",
              "\n",
              "    .dataframe thead th {\n",
              "        text-align: right;\n",
              "    }\n",
              "</style>\n",
              "<table border=\"1\" class=\"dataframe\">\n",
              "  <thead>\n",
              "    <tr style=\"text-align: right;\">\n",
              "      <th></th>\n",
              "      <th>Provinsi</th>\n",
              "      <th>IPM</th>\n",
              "      <th>Pagu TKDD</th>\n",
              "      <th>Realisasi TKDD</th>\n",
              "      <th>Jumlah Penduduk</th>\n",
              "      <th>Anggaran APBN per kapita</th>\n",
              "      <th>Persentase Penduduk Miskin</th>\n",
              "      <th>Produk Domestik Regional Bruto (PDRB) Atas Dasar Harga Berlaku</th>\n",
              "      <th>Produk Domestik Regional Bruto per Kapita HB</th>\n",
              "      <th>Laju Pertumbuhan PDRB atas dasar konstan 2010</th>\n",
              "    </tr>\n",
              "  </thead>\n",
              "  <tbody>\n",
              "    <tr>\n",
              "      <th>0</th>\n",
              "      <td>ACEH</td>\n",
              "      <td>74,7</td>\n",
              "      <td>Rp 30.821.480.000.000,00</td>\n",
              "      <td>Rp 31.074.560.000.000,00</td>\n",
              "      <td>5.409.200</td>\n",
              "      <td>5.744.760,78</td>\n",
              "      <td>14,45</td>\n",
              "      <td>227018,2</td>\n",
              "      <td>41.408.000</td>\n",
              "      <td>4,23</td>\n",
              "    </tr>\n",
              "    <tr>\n",
              "      <th>1</th>\n",
              "      <td>BALI</td>\n",
              "      <td>78,01</td>\n",
              "      <td>Rp 11.152.110.000.000,00</td>\n",
              "      <td>Rp 11.064.980.000.000,00</td>\n",
              "      <td>4.374.300</td>\n",
              "      <td>2.529.543,01</td>\n",
              "      <td>4,25</td>\n",
              "      <td>274358,18</td>\n",
              "      <td>62.294.000</td>\n",
              "      <td>5,71</td>\n",
              "    </tr>\n",
              "    <tr>\n",
              "      <th>2</th>\n",
              "      <td>BANTEN</td>\n",
              "      <td>75,77</td>\n",
              "      <td>Rp 17.453.380.000.000,00</td>\n",
              "      <td>Rp 17.467.380.000.000,00</td>\n",
              "      <td>12.167.000</td>\n",
              "      <td>1.435.635,74</td>\n",
              "      <td>6,17</td>\n",
              "      <td>814122,03</td>\n",
              "      <td>66.147.000</td>\n",
              "      <td>4,81</td>\n",
              "    </tr>\n",
              "    <tr>\n",
              "      <th>3</th>\n",
              "      <td>BENGKULU</td>\n",
              "      <td>74,3</td>\n",
              "      <td>Rp 10.570.080.000.000,00</td>\n",
              "      <td>Rp 10.559.790.000.000,00</td>\n",
              "      <td>2.059.400</td>\n",
              "      <td>5.127.605,13</td>\n",
              "      <td>14,04</td>\n",
              "      <td>96583,09</td>\n",
              "      <td>46.300.000</td>\n",
              "      <td>4,28</td>\n",
              "    </tr>\n",
              "    <tr>\n",
              "      <th>4</th>\n",
              "      <td>DI YOGYAKARTA</td>\n",
              "      <td>81,09</td>\n",
              "      <td>Rp 10.355.870.000.000,00</td>\n",
              "      <td>Rp 10.241.290.000.000,00</td>\n",
              "      <td>3.712.600</td>\n",
              "      <td>2.758.522,33</td>\n",
              "      <td>11,04</td>\n",
              "      <td>180696,04</td>\n",
              "      <td>48.360.000</td>\n",
              "      <td>5,07</td>\n",
              "    </tr>\n",
              "  </tbody>\n",
              "</table>\n",
              "</div>\n",
              "    <div class=\"colab-df-buttons\">\n",
              "\n",
              "  <div class=\"colab-df-container\">\n",
              "    <button class=\"colab-df-convert\" onclick=\"convertToInteractive('df-d6d24b76-83a3-4c5b-b2ff-2bb9fee70563')\"\n",
              "            title=\"Convert this dataframe to an interactive table.\"\n",
              "            style=\"display:none;\">\n",
              "\n",
              "  <svg xmlns=\"http://www.w3.org/2000/svg\" height=\"24px\" viewBox=\"0 -960 960 960\">\n",
              "    <path d=\"M120-120v-720h720v720H120Zm60-500h600v-160H180v160Zm220 220h160v-160H400v160Zm0 220h160v-160H400v160ZM180-400h160v-160H180v160Zm440 0h160v-160H620v160ZM180-180h160v-160H180v160Zm440 0h160v-160H620v160Z\"/>\n",
              "  </svg>\n",
              "    </button>\n",
              "\n",
              "  <style>\n",
              "    .colab-df-container {\n",
              "      display:flex;\n",
              "      gap: 12px;\n",
              "    }\n",
              "\n",
              "    .colab-df-convert {\n",
              "      background-color: #E8F0FE;\n",
              "      border: none;\n",
              "      border-radius: 50%;\n",
              "      cursor: pointer;\n",
              "      display: none;\n",
              "      fill: #1967D2;\n",
              "      height: 32px;\n",
              "      padding: 0 0 0 0;\n",
              "      width: 32px;\n",
              "    }\n",
              "\n",
              "    .colab-df-convert:hover {\n",
              "      background-color: #E2EBFA;\n",
              "      box-shadow: 0px 1px 2px rgba(60, 64, 67, 0.3), 0px 1px 3px 1px rgba(60, 64, 67, 0.15);\n",
              "      fill: #174EA6;\n",
              "    }\n",
              "\n",
              "    .colab-df-buttons div {\n",
              "      margin-bottom: 4px;\n",
              "    }\n",
              "\n",
              "    [theme=dark] .colab-df-convert {\n",
              "      background-color: #3B4455;\n",
              "      fill: #D2E3FC;\n",
              "    }\n",
              "\n",
              "    [theme=dark] .colab-df-convert:hover {\n",
              "      background-color: #434B5C;\n",
              "      box-shadow: 0px 1px 3px 1px rgba(0, 0, 0, 0.15);\n",
              "      filter: drop-shadow(0px 1px 2px rgba(0, 0, 0, 0.3));\n",
              "      fill: #FFFFFF;\n",
              "    }\n",
              "  </style>\n",
              "\n",
              "    <script>\n",
              "      const buttonEl =\n",
              "        document.querySelector('#df-d6d24b76-83a3-4c5b-b2ff-2bb9fee70563 button.colab-df-convert');\n",
              "      buttonEl.style.display =\n",
              "        google.colab.kernel.accessAllowed ? 'block' : 'none';\n",
              "\n",
              "      async function convertToInteractive(key) {\n",
              "        const element = document.querySelector('#df-d6d24b76-83a3-4c5b-b2ff-2bb9fee70563');\n",
              "        const dataTable =\n",
              "          await google.colab.kernel.invokeFunction('convertToInteractive',\n",
              "                                                    [key], {});\n",
              "        if (!dataTable) return;\n",
              "\n",
              "        const docLinkHtml = 'Like what you see? Visit the ' +\n",
              "          '<a target=\"_blank\" href=https://colab.research.google.com/notebooks/data_table.ipynb>data table notebook</a>'\n",
              "          + ' to learn more about interactive tables.';\n",
              "        element.innerHTML = '';\n",
              "        dataTable['output_type'] = 'display_data';\n",
              "        await google.colab.output.renderOutput(dataTable, element);\n",
              "        const docLink = document.createElement('div');\n",
              "        docLink.innerHTML = docLinkHtml;\n",
              "        element.appendChild(docLink);\n",
              "      }\n",
              "    </script>\n",
              "  </div>\n",
              "\n",
              "\n",
              "    <div id=\"df-90e97764-88d8-4539-8a59-145df85e038e\">\n",
              "      <button class=\"colab-df-quickchart\" onclick=\"quickchart('df-90e97764-88d8-4539-8a59-145df85e038e')\"\n",
              "                title=\"Suggest charts\"\n",
              "                style=\"display:none;\">\n",
              "\n",
              "<svg xmlns=\"http://www.w3.org/2000/svg\" height=\"24px\"viewBox=\"0 0 24 24\"\n",
              "     width=\"24px\">\n",
              "    <g>\n",
              "        <path d=\"M19 3H5c-1.1 0-2 .9-2 2v14c0 1.1.9 2 2 2h14c1.1 0 2-.9 2-2V5c0-1.1-.9-2-2-2zM9 17H7v-7h2v7zm4 0h-2V7h2v10zm4 0h-2v-4h2v4z\"/>\n",
              "    </g>\n",
              "</svg>\n",
              "      </button>\n",
              "\n",
              "<style>\n",
              "  .colab-df-quickchart {\n",
              "      --bg-color: #E8F0FE;\n",
              "      --fill-color: #1967D2;\n",
              "      --hover-bg-color: #E2EBFA;\n",
              "      --hover-fill-color: #174EA6;\n",
              "      --disabled-fill-color: #AAA;\n",
              "      --disabled-bg-color: #DDD;\n",
              "  }\n",
              "\n",
              "  [theme=dark] .colab-df-quickchart {\n",
              "      --bg-color: #3B4455;\n",
              "      --fill-color: #D2E3FC;\n",
              "      --hover-bg-color: #434B5C;\n",
              "      --hover-fill-color: #FFFFFF;\n",
              "      --disabled-bg-color: #3B4455;\n",
              "      --disabled-fill-color: #666;\n",
              "  }\n",
              "\n",
              "  .colab-df-quickchart {\n",
              "    background-color: var(--bg-color);\n",
              "    border: none;\n",
              "    border-radius: 50%;\n",
              "    cursor: pointer;\n",
              "    display: none;\n",
              "    fill: var(--fill-color);\n",
              "    height: 32px;\n",
              "    padding: 0;\n",
              "    width: 32px;\n",
              "  }\n",
              "\n",
              "  .colab-df-quickchart:hover {\n",
              "    background-color: var(--hover-bg-color);\n",
              "    box-shadow: 0 1px 2px rgba(60, 64, 67, 0.3), 0 1px 3px 1px rgba(60, 64, 67, 0.15);\n",
              "    fill: var(--button-hover-fill-color);\n",
              "  }\n",
              "\n",
              "  .colab-df-quickchart-complete:disabled,\n",
              "  .colab-df-quickchart-complete:disabled:hover {\n",
              "    background-color: var(--disabled-bg-color);\n",
              "    fill: var(--disabled-fill-color);\n",
              "    box-shadow: none;\n",
              "  }\n",
              "\n",
              "  .colab-df-spinner {\n",
              "    border: 2px solid var(--fill-color);\n",
              "    border-color: transparent;\n",
              "    border-bottom-color: var(--fill-color);\n",
              "    animation:\n",
              "      spin 1s steps(1) infinite;\n",
              "  }\n",
              "\n",
              "  @keyframes spin {\n",
              "    0% {\n",
              "      border-color: transparent;\n",
              "      border-bottom-color: var(--fill-color);\n",
              "      border-left-color: var(--fill-color);\n",
              "    }\n",
              "    20% {\n",
              "      border-color: transparent;\n",
              "      border-left-color: var(--fill-color);\n",
              "      border-top-color: var(--fill-color);\n",
              "    }\n",
              "    30% {\n",
              "      border-color: transparent;\n",
              "      border-left-color: var(--fill-color);\n",
              "      border-top-color: var(--fill-color);\n",
              "      border-right-color: var(--fill-color);\n",
              "    }\n",
              "    40% {\n",
              "      border-color: transparent;\n",
              "      border-right-color: var(--fill-color);\n",
              "      border-top-color: var(--fill-color);\n",
              "    }\n",
              "    60% {\n",
              "      border-color: transparent;\n",
              "      border-right-color: var(--fill-color);\n",
              "    }\n",
              "    80% {\n",
              "      border-color: transparent;\n",
              "      border-right-color: var(--fill-color);\n",
              "      border-bottom-color: var(--fill-color);\n",
              "    }\n",
              "    90% {\n",
              "      border-color: transparent;\n",
              "      border-bottom-color: var(--fill-color);\n",
              "    }\n",
              "  }\n",
              "</style>\n",
              "\n",
              "      <script>\n",
              "        async function quickchart(key) {\n",
              "          const quickchartButtonEl =\n",
              "            document.querySelector('#' + key + ' button');\n",
              "          quickchartButtonEl.disabled = true;  // To prevent multiple clicks.\n",
              "          quickchartButtonEl.classList.add('colab-df-spinner');\n",
              "          try {\n",
              "            const charts = await google.colab.kernel.invokeFunction(\n",
              "                'suggestCharts', [key], {});\n",
              "          } catch (error) {\n",
              "            console.error('Error during call to suggestCharts:', error);\n",
              "          }\n",
              "          quickchartButtonEl.classList.remove('colab-df-spinner');\n",
              "          quickchartButtonEl.classList.add('colab-df-quickchart-complete');\n",
              "        }\n",
              "        (() => {\n",
              "          let quickchartButtonEl =\n",
              "            document.querySelector('#df-90e97764-88d8-4539-8a59-145df85e038e button');\n",
              "          quickchartButtonEl.style.display =\n",
              "            google.colab.kernel.accessAllowed ? 'block' : 'none';\n",
              "        })();\n",
              "      </script>\n",
              "    </div>\n",
              "\n",
              "    </div>\n",
              "  </div>\n"
            ],
            "application/vnd.google.colaboratory.intrinsic+json": {
              "type": "dataframe",
              "variable_name": "df",
              "summary": "{\n  \"name\": \"df\",\n  \"rows\": 38,\n  \"fields\": [\n    {\n      \"column\": \"Provinsi\",\n      \"properties\": {\n        \"dtype\": \"string\",\n        \"num_unique_values\": 38,\n        \"samples\": [\n          \"SULAWESI TENGGARA\",\n          \"SUMATERA SELATAN\",\n          \"DI YOGYAKARTA\"\n        ],\n        \"semantic_type\": \"\",\n        \"description\": \"\"\n      }\n    },\n    {\n      \"column\": \"IPM\",\n      \"properties\": {\n        \"dtype\": \"object\",\n        \"num_unique_values\": 33,\n        \"samples\": [\n          \"73,18\",\n          \"74,09\",\n          \"74,6\"\n        ],\n        \"semantic_type\": \"\",\n        \"description\": \"\"\n      }\n    },\n    {\n      \"column\": \"Pagu TKDD\",\n      \"properties\": {\n        \"dtype\": \"string\",\n        \"num_unique_values\": 38,\n        \"samples\": [\n          \" Rp 20.460.790.000.000,00 \",\n          \" Rp 33.865.210.000.000,00 \",\n          \" Rp 10.355.870.000.000,00 \"\n        ],\n        \"semantic_type\": \"\",\n        \"description\": \"\"\n      }\n    },\n    {\n      \"column\": \"Realisasi TKDD\",\n      \"properties\": {\n        \"dtype\": \"string\",\n        \"num_unique_values\": 38,\n        \"samples\": [\n          \" Rp 20.840.410.000.000,00 \",\n          \" Rp 35.433.170.000.000,00 \",\n          \" Rp 10.241.290.000.000,00 \"\n        ],\n        \"semantic_type\": \"\",\n        \"description\": \"\"\n      }\n    },\n    {\n      \"column\": \"Jumlah Penduduk\",\n      \"properties\": {\n        \"dtype\": \"string\",\n        \"num_unique_values\": 36,\n        \"samples\": [\n          \"  15.180.500 \",\n          \"  2.737.200 \",\n          \"  1.351.659 \"\n        ],\n        \"semantic_type\": \"\",\n        \"description\": \"\"\n      }\n    },\n    {\n      \"column\": \"Anggaran APBN per kapita\",\n      \"properties\": {\n        \"dtype\": \"string\",\n        \"num_unique_values\": 36,\n        \"samples\": [\n          \"  2.814.967,23 \",\n          \"  10.544.428,61 \",\n          \" null\"\n        ],\n        \"semantic_type\": \"\",\n        \"description\": \"\"\n      }\n    },\n    {\n      \"column\": \"Persentase Penduduk Miskin\",\n      \"properties\": {\n        \"dtype\": \"string\",\n        \"num_unique_values\": 34,\n        \"samples\": [\n          \"6,45\",\n          \"16,42\",\n          \"8,7\"\n        ],\n        \"semantic_type\": \"\",\n        \"description\": \"\"\n      }\n    },\n    {\n      \"column\": \"Produk Domestik Regional Bruto (PDRB) Atas Dasar Harga Berlaku\",\n      \"properties\": {\n        \"dtype\": \"string\",\n        \"num_unique_values\": 38,\n        \"samples\": [\n          \"176179,9\",\n          \"629168,67\",\n          \"180696,04\"\n        ],\n        \"semantic_type\": \"\",\n        \"description\": \"\"\n      }\n    },\n    {\n      \"column\": \"Produk Domestik Regional Bruto per Kapita HB\",\n      \"properties\": {\n        \"dtype\": \"string\",\n        \"num_unique_values\": 38,\n        \"samples\": [\n          \"  64.088.000 \",\n          \"  71.958.000 \",\n          \"  48.360.000 \"\n        ],\n        \"semantic_type\": \"\",\n        \"description\": \"\"\n      }\n    },\n    {\n      \"column\": \"Laju Pertumbuhan PDRB atas dasar konstan 2010\",\n      \"properties\": {\n        \"dtype\": \"string\",\n        \"num_unique_values\": 37,\n        \"samples\": [\n          \"5,16\",\n          \"4,14\",\n          \"5,07\"\n        ],\n        \"semantic_type\": \"\",\n        \"description\": \"\"\n      }\n    }\n  ]\n}"
            }
          },
          "metadata": {},
          "execution_count": 2
        }
      ]
    },
    {
      "cell_type": "markdown",
      "source": [
        "### 1.2 Cek Missing Values & Duplikasi"
      ],
      "metadata": {
        "id": "5baa6wWqwQ4P"
      }
    },
    {
      "cell_type": "code",
      "source": [
        "# Cek missing values\n",
        "print(\"Jumlah missing value per kolom:\")\n",
        "print(df.isnull().sum())\n",
        "\n",
        "# Cek duplikasi\n",
        "print(\"\\nJumlah baris duplikat:\", df.duplicated().sum())"
      ],
      "metadata": {
        "id": "WqyOEEaxwVgg",
        "outputId": "2ee75bd0-f600-4393-8561-eae6c64dd0a1",
        "colab": {
          "base_uri": "https://localhost:8080/"
        }
      },
      "execution_count": 3,
      "outputs": [
        {
          "output_type": "stream",
          "name": "stdout",
          "text": [
            "Jumlah missing value per kolom:\n",
            "Provinsi                                                          0\n",
            "IPM                                                               4\n",
            "Pagu TKDD                                                         0\n",
            "Realisasi TKDD                                                    0\n",
            "Jumlah Penduduk                                                   2\n",
            "Anggaran APBN per kapita                                          0\n",
            "Persentase Penduduk Miskin                                        4\n",
            "Produk Domestik Regional Bruto (PDRB) Atas Dasar Harga Berlaku    0\n",
            "Produk Domestik Regional Bruto per Kapita HB                      0\n",
            "Laju Pertumbuhan PDRB atas dasar konstan 2010                     0\n",
            "dtype: int64\n",
            "\n",
            "Jumlah baris duplikat: 0\n"
          ]
        }
      ]
    },
    {
      "cell_type": "markdown",
      "source": [
        "### 1.3 Renaming Columns"
      ],
      "metadata": {
        "id": "yYjl9-VmCbxe"
      }
    },
    {
      "cell_type": "code",
      "source": [
        "# Rename kolom-kolom\n",
        "df.rename(columns={\n",
        "    'Provinsi': 'provinsi',\n",
        "    'IPM': 'ipm',\n",
        "    'Pagu TKDD': 'pagu_tkdd',\n",
        "    'Realisasi TKDD': 'realisasi_tkdd',\n",
        "    'Jumlah Penduduk': 'jumlah_penduduk',\n",
        "    'Anggaran APBN per kapita': 'apbn_per_kapita',\n",
        "    'Persentase Penduduk Miskin': 'persentase_penduduk_miskin',\n",
        "    'Produk Domestik Regional Bruto (PDRB) Atas Dasar Harga Berlaku': 'pdrb_adhb',\n",
        "    'Produk Domestik Regional Bruto per Kapita HB': 'pdrb_per_kapita_hb',\n",
        "    'Laju Pertumbuhan PDRB atas dasar konstan 2010': 'laju_pdrb_konstan_2010'\n",
        "}, inplace=True)\n",
        "\n",
        "df.columns"
      ],
      "metadata": {
        "id": "oMiLZy9jChpZ",
        "colab": {
          "base_uri": "https://localhost:8080/"
        },
        "outputId": "16e5f378-a3d4-464d-b4ee-4e73d33bd533"
      },
      "execution_count": 4,
      "outputs": [
        {
          "output_type": "stream",
          "name": "stdout",
          "text": [
            "Index(['provinsi', 'ipm', 'pagu_tkdd', 'realisasi_tkdd', 'jumlah_penduduk',\n",
            "       'apbn_per_kapita', 'persentase_penduduk_miskin', 'pdrb_adhb',\n",
            "       'pdrb_per_kapita_hb', 'laju_pdrb_konstan_2010'],\n",
            "      dtype='object')\n"
          ]
        }
      ]
    },
    {
      "cell_type": "markdown",
      "source": [
        "### 1.4 Cek & Pastikan Tipe Data Numerik"
      ],
      "metadata": {
        "id": "OO8_w1vnxL_v"
      }
    },
    {
      "cell_type": "code",
      "source": [
        "# Cek tipe data\n",
        "print(\"\\nTipe data setiap kolom:\")\n",
        "print(df.dtypes)\n",
        "\n",
        "replacement_rules = {\n",
        "    r'Rp ': '',\n",
        "    r'\\.': '',\n",
        "    r',': '.'\n",
        "}\n",
        "\n",
        "clear_cols = ['ipm',\n",
        "              'pagu_tkdd',\n",
        "              'realisasi_tkdd',\n",
        "              'jumlah_penduduk',\n",
        "              'apbn_per_kapita',\n",
        "              'persentase_penduduk_miskin',\n",
        "              'pdrb_adhb',\n",
        "              'pdrb_per_kapita_hb',\n",
        "              'laju_pdrb_konstan_2010'\n",
        "]\n",
        "\n",
        "def apply_replacements(text, rules):\n",
        "    # Convert non-string values to string, handling NaN\n",
        "    if not isinstance(text, str):\n",
        "        return str(text)\n",
        "    for pattern, replacement in rules.items():\n",
        "        text = re.sub(pattern, replacement, text)\n",
        "    return text\n",
        "\n",
        "for col in clear_cols:\n",
        "  df[col] = df[col].apply(lambda x: apply_replacements(x, replacement_rules))\n",
        "  df[col] = pd.to_numeric(df[col], errors='coerce')\n",
        "\n",
        "print(\"\\nTipe data setelah konversi:\")\n",
        "print(df.dtypes)"
      ],
      "metadata": {
        "id": "1ttMBzXDxNlW",
        "outputId": "ed6506f6-4d89-4a16-b421-5790c0064862",
        "colab": {
          "base_uri": "https://localhost:8080/"
        }
      },
      "execution_count": 5,
      "outputs": [
        {
          "output_type": "stream",
          "name": "stdout",
          "text": [
            "\n",
            "Tipe data setiap kolom:\n",
            "provinsi                      object\n",
            "ipm                           object\n",
            "pagu_tkdd                     object\n",
            "realisasi_tkdd                object\n",
            "jumlah_penduduk               object\n",
            "apbn_per_kapita               object\n",
            "persentase_penduduk_miskin    object\n",
            "pdrb_adhb                     object\n",
            "pdrb_per_kapita_hb            object\n",
            "laju_pdrb_konstan_2010        object\n",
            "dtype: object\n",
            "\n",
            "Tipe data setelah konversi:\n",
            "provinsi                       object\n",
            "ipm                           float64\n",
            "pagu_tkdd                     float64\n",
            "realisasi_tkdd                float64\n",
            "jumlah_penduduk               float64\n",
            "apbn_per_kapita               float64\n",
            "persentase_penduduk_miskin    float64\n",
            "pdrb_adhb                     float64\n",
            "pdrb_per_kapita_hb              int64\n",
            "laju_pdrb_konstan_2010        float64\n",
            "dtype: object\n"
          ]
        }
      ]
    },
    {
      "cell_type": "markdown",
      "source": [
        "### 1.4 Normalisasi Kolom"
      ],
      "metadata": {
        "id": "U5hBe5dfymVc"
      }
    },
    {
      "cell_type": "code",
      "source": [
        "df['pagu_tkdd_per_kapita'] = df['pagu_tkdd'] / df['jumlah_penduduk']\n",
        "df['realisasi_tkdd_per_kapita'] = df['realisasi_tkdd'] / df['jumlah_penduduk']"
      ],
      "metadata": {
        "id": "UEoEKhAWyoi2"
      },
      "execution_count": 6,
      "outputs": []
    },
    {
      "cell_type": "markdown",
      "source": [
        "### 1.5 Tambahkan Kolom Rasio Realisasi TKDD"
      ],
      "metadata": {
        "id": "PfT_NUAzyqMI"
      }
    },
    {
      "cell_type": "code",
      "source": [
        "df['rasio_realisasi'] = (df['realisasi_tkdd'] / df['pagu_tkdd']) * 100"
      ],
      "metadata": {
        "id": "JZC7PuUXysF7"
      },
      "execution_count": 7,
      "outputs": []
    },
    {
      "cell_type": "markdown",
      "source": [
        "### 1.6 Klasifikasikan Rasio ke dalam 3 Kategori"
      ],
      "metadata": {
        "id": "XUvOVlPxytS-"
      }
    },
    {
      "cell_type": "code",
      "source": [
        "def klasifikasi_realisasi(rasio):\n",
        "    if rasio < 90:\n",
        "        return '< 90'\n",
        "    elif 90 <= rasio <= 100:\n",
        "        return '90-100'\n",
        "    else:\n",
        "        return '>100'\n",
        "\n",
        "df['kategori_realisasi_%'] = df['rasio_realisasi'].apply(klasifikasi_realisasi)"
      ],
      "metadata": {
        "id": "JT63J_hOyvnM"
      },
      "execution_count": 11,
      "outputs": []
    }
  ],
  "metadata": {
    "language_info": {
      "name": "python"
    },
    "colab": {
      "provenance": [],
      "toc_visible": true,
      "include_colab_link": true
    },
    "kernelspec": {
      "name": "python3",
      "display_name": "Python 3"
    }
  },
  "nbformat": 4,
  "nbformat_minor": 0
}